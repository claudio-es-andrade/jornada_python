{
  "nbformat": 4,
  "nbformat_minor": 0,
  "metadata": {
    "colab": {
      "private_outputs": true,
      "provenance": []
    },
    "kernelspec": {
      "name": "python3",
      "display_name": "Python 3"
    },
    "language_info": {
      "name": "python"
    }
  },
  "cells": [
    {
      "cell_type": "markdown",
      "source": [
        "# Python para análise de daods - PANDAS"
      ],
      "metadata": {
        "id": "Ob_Xe3bYUERW"
      }
    },
    {
      "cell_type": "code",
      "execution_count": null,
      "metadata": {
        "id": "vQkHg5idLz6U"
      },
      "outputs": [],
      "source": [
        "from sre_constants import error\n",
        "import pandas as pd\n",
        "\n",
        "df = pd.read_csv(\"/content/Gapminder.csv\", error_bad_lines=False, sep=\";\")"
      ]
    },
    {
      "cell_type": "code",
      "source": [
        "df.head()"
      ],
      "metadata": {
        "id": "iFf8TVC8XPEJ"
      },
      "execution_count": null,
      "outputs": []
    },
    {
      "cell_type": "code",
      "source": [
        "df = df.rename(columns={\"country\": \"País\", \"continent\": \"Continente\", \"year\": \"Ano\", \"lifeExp\": \"Expectativa de Vida\", \"pop\": \"Pop Total\", \"gdpPercap\": \"PIB\" })"
      ],
      "metadata": {
        "id": "21ej_wfzYSpY"
      },
      "execution_count": null,
      "outputs": []
    },
    {
      "cell_type": "code",
      "source": [
        "df.head(10)"
      ],
      "metadata": {
        "id": "MN8T1YVwZp9g"
      },
      "execution_count": null,
      "outputs": []
    },
    {
      "cell_type": "code",
      "source": [
        "# Total de linhas e colunas\n",
        "print(\"Total de linhas e colunas:\")\n",
        "df.shape"
      ],
      "metadata": {
        "id": "8F-SjxDBaEJE"
      },
      "execution_count": null,
      "outputs": []
    },
    {
      "cell_type": "code",
      "source": [
        "# Cabeçalho das Colunas\n",
        "print(\"Cabeçalho das Colunas\")\n",
        "df.columns"
      ],
      "metadata": {
        "id": "olLpL5jIaxQx"
      },
      "execution_count": null,
      "outputs": []
    },
    {
      "cell_type": "code",
      "source": [
        "# Tipo de dados de cada coluna\n",
        "print(\"Tipo de dados de cada coluna\")\n",
        "df.dtypes"
      ],
      "metadata": {
        "id": "gByqY_MXbF_n"
      },
      "execution_count": null,
      "outputs": []
    },
    {
      "cell_type": "code",
      "source": [
        "# Retornando as 5 últimas linhas do objeto\n",
        "print(\"Retornando as 5 últimas linhas do objeto\")\n",
        "df.tail()"
      ],
      "metadata": {
        "id": "Tt3-qqVpbr96"
      },
      "execution_count": null,
      "outputs": []
    },
    {
      "cell_type": "code",
      "source": [
        "df.tail(15)"
      ],
      "metadata": {
        "id": "EGzYFO-ucK-L"
      },
      "execution_count": null,
      "outputs": []
    },
    {
      "cell_type": "code",
      "source": [
        "# Estatísticas do dados\n",
        "print(\"Estatísticas do dados\")\n",
        "df.describe()"
      ],
      "metadata": {
        "id": "wZ2dq2JTclAH"
      },
      "execution_count": null,
      "outputs": []
    },
    {
      "cell_type": "code",
      "source": [
        "# Selecionando os continentes nos dados\n",
        "print(\"Selecionando os continentes nos dados\")\n",
        "df[\"Continente\"].unique()"
      ],
      "metadata": {
        "id": "5EfKD0BIdQEX"
      },
      "execution_count": null,
      "outputs": []
    },
    {
      "cell_type": "code",
      "source": [
        "# Selecionando os detalhes de um específico continente\n",
        "Oceania = df.loc[df[\"Continente\"] == \"Oceania\"]\n",
        "Oceania.head()"
      ],
      "metadata": {
        "id": "eulwQeDGd_8z"
      },
      "execution_count": null,
      "outputs": []
    },
    {
      "cell_type": "code",
      "source": [
        "# Retornando uma específica variável\n",
        "print(\"Retornando uma específica variável\")\n",
        "Oceania[\"Continente\"].unique()"
      ],
      "metadata": {
        "id": "N0NNvXRNenRc"
      },
      "execution_count": null,
      "outputs": []
    },
    {
      "cell_type": "code",
      "source": [
        "# Agrupando itens de uma determinada coluna\n",
        "print(\"Agrupando itens de uma determinada coluna\")\n",
        "df.groupby(\"Continente\")[\"País\"].nunique()"
      ],
      "metadata": {
        "id": "EG_OpODLfree"
      },
      "execution_count": null,
      "outputs": []
    },
    {
      "cell_type": "code",
      "source": [
        "# A média de Expectativa de Vida por Ano\n",
        "print(\"A média de Expectativa de Vida por Ano \\n\")\n",
        "df.groupby(\"Ano\")[\"Expectativa de Vida\"].mean()"
      ],
      "metadata": {
        "id": "N76k--wwgq3e"
      },
      "execution_count": null,
      "outputs": []
    },
    {
      "cell_type": "code",
      "source": [
        "# Média do PIB\n",
        "print(\"Média do PIB\")\n",
        "df[\"PIB\"].mean()"
      ],
      "metadata": {
        "id": "1BeRK4Peh3WL"
      },
      "execution_count": null,
      "outputs": []
    },
    {
      "cell_type": "code",
      "source": [
        "# Soma do PIB\n",
        "print(\"Soma do PIB\")\n",
        "df[\"PIB\"].sum()"
      ],
      "metadata": {
        "id": "QN5eZxRKiYQz"
      },
      "execution_count": null,
      "outputs": []
    }
  ]
}